{
 "cells": [
  {
   "cell_type": "code",
   "execution_count": 1,
   "id": "c074bdf4",
   "metadata": {},
   "outputs": [],
   "source": [
    "from dotenv import load_dotenv\n",
    "import os\n",
    "\n",
    "load_dotenv()\n",
    "\n",
    "USER = os.getenv('USER')\n",
    "PASSWORD = os.getenv('PASSWORD')"
   ]
  },
  {
   "cell_type": "code",
   "execution_count": 2,
   "id": "0b34fd62",
   "metadata": {},
   "outputs": [],
   "source": [
    "from pyspark.sql import SparkSession, DataFrame, functions as f\n",
    "import pyspark.sql.types as t"
   ]
  },
  {
   "cell_type": "code",
   "execution_count": 3,
   "id": "b92f0fd9",
   "metadata": {},
   "outputs": [],
   "source": [
    "spark = (SparkSession.\n",
    "         builder.\n",
    "         config(\"spark.jars\",r\"D:\\spark_demo\\Spark_Demo_Course\\spark-3.1.3-bin-hadoop2.7\\jars\\mysql-connector-java-8.0.30.jar\").\n",
    "         master(\"local\").\n",
    "         appName(\"driver\").\n",
    "         getOrCreate()\n",
    ")"
   ]
  },
  {
   "cell_type": "code",
   "execution_count": 4,
   "id": "857e68be",
   "metadata": {},
   "outputs": [],
   "source": [
    "connector = (spark.read\n",
    "        .format(\"jdbc\")\\\n",
    "        .option(\"url\", \"jdbc:mysql://localhost:3306/sakila\")\\\n",
    "        .option(\"user\", USER)\\\n",
    "        .option(\"password\", PASSWORD)\\\n",
    "        .option(\"driver\", \"com.mysql.jdbc.Driver\")\n",
    "        )"
   ]
  },
  {
   "cell_type": "code",
   "execution_count": 5,
   "id": "b8eb87d0",
   "metadata": {},
   "outputs": [],
   "source": [
    "def table_reader(table_name:str) -> DataFrame:\n",
    "    return connector.option(\"dbtable\", table_name).load()"
   ]
  },
  {
   "cell_type": "code",
   "execution_count": 6,
   "id": "1ee4a728",
   "metadata": {},
   "outputs": [],
   "source": [
    "actor = table_reader(\"actor\")\n",
    "address = table_reader(\"address\")\n",
    "category = table_reader(\"category\")\n",
    "city = table_reader(\"city\")\n",
    "country = table_reader(\"country\")\n",
    "customer = table_reader(\"customer\")\n",
    "film = table_reader(\"film\")\n",
    "film_actor = table_reader(\"film_actor\")\n",
    "film_category = table_reader(\"film_category\")\n",
    "inventory = table_reader(\"inventory\")\n",
    "language = table_reader(\"language\")\n",
    "payment = table_reader(\"payment\")\n",
    "rental = table_reader(\"rental\")\n",
    "staff = table_reader(\"staff\")\n",
    "store = table_reader(\"store\")"
   ]
  },
  {
   "cell_type": "code",
   "execution_count": 7,
   "id": "c6c453f6",
   "metadata": {},
   "outputs": [
    {
     "name": "stdout",
     "output_type": "stream",
     "text": [
      "+-----------+-----+\n",
      "|       name|count|\n",
      "+-----------+-----+\n",
      "|     Sports|   74|\n",
      "|    Foreign|   73|\n",
      "|     Family|   69|\n",
      "|Documentary|   68|\n",
      "|  Animation|   66|\n",
      "|     Action|   64|\n",
      "|        New|   63|\n",
      "|      Drama|   62|\n",
      "|     Sci-Fi|   61|\n",
      "|      Games|   61|\n",
      "|   Children|   60|\n",
      "|     Comedy|   58|\n",
      "|     Travel|   57|\n",
      "|   Classics|   57|\n",
      "|     Horror|   56|\n",
      "|      Music|   51|\n",
      "+-----------+-----+\n",
      "\n"
     ]
    }
   ],
   "source": [
    "# 1\n",
    "(category.join(film_category, on=\"category_id\").\n",
    "     groupBy(\"name\").\n",
    "     count().\n",
    "     orderBy(f.col(\"count\").desc()).\n",
    "     select(\"name\", \"count\").\n",
    "     show()\n",
    ")"
   ]
  },
  {
   "cell_type": "code",
   "execution_count": 8,
   "id": "d155dc48",
   "metadata": {},
   "outputs": [
    {
     "name": "stdout",
     "output_type": "stream",
     "text": [
      "+----------+---------+--------------------+\n",
      "|first_name|last_name|sum(rental_duration)|\n",
      "+----------+---------+--------------------+\n",
      "|     SUSAN|    DAVIS|                 242|\n",
      "|      GINA|DEGENERES|                 209|\n",
      "|    WALTER|     TORN|                 201|\n",
      "|      MARY|   KEITEL|                 192|\n",
      "|   MATTHEW|   CARREY|                 190|\n",
      "|   GROUCHO|    DUNST|                 183|\n",
      "|    ANGELA|   HUDSON|                 183|\n",
      "|    SANDRA|   KILMER|                 181|\n",
      "|     HENRY|    BERRY|                 180|\n",
      "|       UMA|     WOOD|                 179|\n",
      "+----------+---------+--------------------+\n",
      "only showing top 10 rows\n",
      "\n"
     ]
    }
   ],
   "source": [
    "# 2\n",
    "(actor.join(film_actor, on='actor_id').\n",
    "        join(film, on='film_id').\n",
    "        groupBy('first_name','last_name').\n",
    "        sum('rental_duration').\n",
    "        orderBy(f.col('sum(rental_duration)').desc()).\n",
    "        show(10)\n",
    ")"
   ]
  },
  {
   "cell_type": "code",
   "execution_count": 9,
   "id": "6ce78556",
   "metadata": {},
   "outputs": [
    {
     "name": "stdout",
     "output_type": "stream",
     "text": [
      "+------+\n",
      "|  name|\n",
      "+------+\n",
      "|Sports|\n",
      "+------+\n",
      "only showing top 1 row\n",
      "\n"
     ]
    }
   ],
   "source": [
    "# 3\n",
    "(category.join(film_category, on='category_id').\n",
    "     join(film, on='film_id').\n",
    "     groupBy('name').\n",
    "     agg(\n",
    "         f.sum(\"replacement_cost\").alias('Sum')\n",
    "     ).\n",
    "     orderBy(f.col(\"Sum\").desc()).\n",
    "     select(\"name\").\n",
    "     show(1)\n",
    ")"
   ]
  },
  {
   "cell_type": "code",
   "execution_count": 10,
   "id": "cc8716a3",
   "metadata": {},
   "outputs": [
    {
     "name": "stdout",
     "output_type": "stream",
     "text": [
      "+--------------------+\n",
      "|               title|\n",
      "+--------------------+\n",
      "|      ALICE FANTASIA|\n",
      "|         APOLLO TEEN|\n",
      "|      ARGONAUTS TOWN|\n",
      "|       ARK RIDGEMONT|\n",
      "|ARSENIC INDEPENDENCE|\n",
      "|   BOONDOCK BALLROOM|\n",
      "|       BUTCH PANTHER|\n",
      "|       CATCH AMISTAD|\n",
      "| CHINATOWN GLADIATOR|\n",
      "|      CHOCOLATE DUCK|\n",
      "|COMMANDMENTS EXPRESS|\n",
      "|    CROSSING DIVORCE|\n",
      "|     CROWDS TELEMARK|\n",
      "|    CRYSTAL BREAKING|\n",
      "|          DAZED PUNK|\n",
      "|DELIVERANCE MULHO...|\n",
      "|   FIREHOUSE VIETNAM|\n",
      "|       FLOATS GARDEN|\n",
      "|FRANKENSTEIN STRA...|\n",
      "|  GLADIATOR WESTWARD|\n",
      "|           GUMP DATE|\n",
      "|       HATE HANDICAP|\n",
      "|         HOCUS FRIDA|\n",
      "|    KENTUCKIAN GIANT|\n",
      "|    KILL BROTHERHOOD|\n",
      "|         MUPPET MILE|\n",
      "|      ORDER BETRAYED|\n",
      "|       PEARL DESTINY|\n",
      "|     PERDITION FARGO|\n",
      "|       PSYCHO SHRUNK|\n",
      "|   RAIDERS ANTITRUST|\n",
      "|       RAINBOW SHOCK|\n",
      "|       ROOF CHAMPION|\n",
      "|       SISTER FREDDY|\n",
      "|         SKY MIRACLE|\n",
      "|    SUICIDES SILENCE|\n",
      "|        TADPOLE PARK|\n",
      "|    TREASURE COMMAND|\n",
      "|   VILLAIN DESPERATE|\n",
      "|        VOLUME HOUSE|\n",
      "|           WAKE JAWS|\n",
      "|        WALLS ARTIST|\n",
      "+--------------------+\n",
      "\n"
     ]
    }
   ],
   "source": [
    "# 4\n",
    "(film.join(inventory,'film_id','left').\n",
    "     groupBy('title').\n",
    "     count().\n",
    "     filter(f.col('count') == 1).\n",
    "     orderBy('title').\n",
    "     select('title').\n",
    "     show(100)\n",
    ")"
   ]
  },
  {
   "cell_type": "code",
   "execution_count": 11,
   "id": "2ca1e312",
   "metadata": {},
   "outputs": [],
   "source": [
    "# 5\n",
    "temp_table = (actor.join(film_actor, on='actor_id').\n",
    "                  join(film_category, on='film_id').\n",
    "                  join(category, on='category_id').\n",
    "                  filter(f.col('name') == 'Children').\n",
    "                  withColumn('full_name', f.concat_ws(' ','first_name','last_name')).\n",
    "                  groupBy('full_name').\n",
    "                  count().\n",
    "                  orderBy(f.col('count').desc()).\n",
    "                  select('full_name','count')\n",
    "             )"
   ]
  },
  {
   "cell_type": "code",
   "execution_count": 12,
   "id": "f72202c1",
   "metadata": {},
   "outputs": [
    {
     "name": "stdout",
     "output_type": "stream",
     "text": [
      "+-------------+-----+\n",
      "|    full_name|count|\n",
      "+-------------+-----+\n",
      "| HELEN VOIGHT|    7|\n",
      "|  SUSAN DAVIS|    6|\n",
      "|   MARY TANDY|    5|\n",
      "|   RALPH CRUZ|    5|\n",
      "|  WHOOPI HURT|    5|\n",
      "|KEVIN GARLAND|    5|\n",
      "+-------------+-----+\n",
      "\n"
     ]
    }
   ],
   "source": [
    "(temp_table.\n",
    " filter(f.col('count').isin(temp_table.select('count').limit(3).rdd.map(lambda row: row[0]).collect())).\n",
    " orderBy(f.col('count').desc()).\n",
    " show()\n",
    ")"
   ]
  },
  {
   "cell_type": "code",
   "execution_count": 13,
   "id": "da89eb74",
   "metadata": {},
   "outputs": [
    {
     "name": "stdout",
     "output_type": "stream",
     "text": [
      "+----------------+--------------+----------------+\n",
      "|            city|active_clients|inactive_clients|\n",
      "+----------------+--------------+----------------+\n",
      "|          Ktahya|             0|               1|\n",
      "|Charlotte Amalie|             0|               1|\n",
      "|         Wroclaw|             0|               1|\n",
      "|       Pingxiang|             0|               1|\n",
      "|     Szkesfehrvr|             0|               1|\n",
      "|          Daxian|             0|               1|\n",
      "|   Coatzacoalcos|             0|               1|\n",
      "|         Bat Yam|             0|               1|\n",
      "| Southend-on-Sea|             0|               1|\n",
      "|        Uluberia|             0|               1|\n",
      "|       Najafabad|             0|               1|\n",
      "|        Xiangfan|             0|               1|\n",
      "|      Kumbakonam|             0|               1|\n",
      "|          Kamyin|             0|               1|\n",
      "|          Amroha|             0|               1|\n",
      "|        Chisinau|             1|               0|\n",
      "|         Esfahan|             1|               0|\n",
      "|       Mit Ghamr|             1|               0|\n",
      "|         Udaipur|             1|               0|\n",
      "|  Dhule (Dhulia)|             1|               0|\n",
      "+----------------+--------------+----------------+\n",
      "only showing top 20 rows\n",
      "\n"
     ]
    }
   ],
   "source": [
    "# 6\n",
    "(city.join(address, on='city_id').\n",
    "     join(customer, on='address_id').\n",
    "     groupBy('city').\n",
    "     agg(\n",
    "     f.sum(f.col(\"active\").cast('int')).alias(\"active_clients\"),\n",
    "     (f.count(f.col(\"active\").cast('int'))-f.sum(f.col(\"active\").cast('int'))).alias(\"inactive_clients\")\n",
    "     ).\n",
    "     orderBy(f.col('inactive_clients').desc()).\n",
    "     show()\n",
    ")"
   ]
  },
  {
   "cell_type": "code",
   "execution_count": 14,
   "id": "031efade",
   "metadata": {},
   "outputs": [],
   "source": [
    "# 7\n",
    "temp_table = (city.join(address, on='city_id').\n",
    "                  join(customer, on='address_id').\n",
    "                  join(rental, on='customer_id').\n",
    "                  join(inventory, on='inventory_id').\n",
    "                  join(film_category, on='film_id').\n",
    "                  join(category, on='category_id').\n",
    "                  filter(f.col('return_date').isNotNull()).\n",
    "                  withColumnRenamed('name', 'category').\n",
    "                  withColumnRenamed('rental_date', 'd1').\n",
    "                  withColumnRenamed('return_date', 'd2').\n",
    "                  select('category', 'd1', 'd2', 'city')\n",
    "             )\n"
   ]
  },
  {
   "cell_type": "code",
   "execution_count": 15,
   "id": "a09aa56e",
   "metadata": {},
   "outputs": [],
   "source": [
    "tb1 = (temp_table.\n",
    "       withColumn('diff', (f.col('d2').cast('int')-f.col('d1').cast('int'))).\n",
    "       filter(f.col('city').like('A%')).\n",
    "       groupBy('category').\n",
    "       agg(f.sum('diff').alias('time')).\n",
    "       orderBy(f.col('time').desc()).\n",
    "       select('category', 'time').\n",
    "       limit(1)\n",
    "      )"
   ]
  },
  {
   "cell_type": "code",
   "execution_count": 16,
   "id": "06dc2107",
   "metadata": {},
   "outputs": [],
   "source": [
    "tb2 = (temp_table.\n",
    "       withColumn('diff', (f.col('d2').cast('int')-f.col('d1').cast('int'))).\n",
    "       filter(f.col('city').like('%-%')).\n",
    "       groupBy('category').\n",
    "       agg(f.sum('diff').alias('time')).\n",
    "       orderBy(f.col('time').desc()).\n",
    "       select('category', 'time').\n",
    "       limit(1)\n",
    "      )"
   ]
  },
  {
   "cell_type": "code",
   "execution_count": 17,
   "id": "8fc0728f",
   "metadata": {},
   "outputs": [
    {
     "name": "stdout",
     "output_type": "stream",
     "text": [
      "+--------+--------+\n",
      "|category|    time|\n",
      "+--------+--------+\n",
      "|  Sports|44497260|\n",
      "| Foreign|23299740|\n",
      "+--------+--------+\n",
      "\n"
     ]
    }
   ],
   "source": [
    "tb1.union(tb2).show()"
   ]
  },
  {
   "cell_type": "code",
   "execution_count": null,
   "id": "14aa6bd6",
   "metadata": {},
   "outputs": [],
   "source": []
  }
 ],
 "metadata": {
  "kernelspec": {
   "display_name": "Python 3 (ipykernel)",
   "language": "python",
   "name": "python3"
  },
  "language_info": {
   "codemirror_mode": {
    "name": "ipython",
    "version": 3
   },
   "file_extension": ".py",
   "mimetype": "text/x-python",
   "name": "python",
   "nbconvert_exporter": "python",
   "pygments_lexer": "ipython3",
   "version": "3.9.7"
  }
 },
 "nbformat": 4,
 "nbformat_minor": 5
}
